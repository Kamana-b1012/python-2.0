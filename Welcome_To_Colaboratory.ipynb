{
  "cells": [
    {
      "cell_type": "markdown",
      "metadata": {
        "id": "view-in-github",
        "colab_type": "text"
      },
      "source": [
        "<a href=\"https://colab.research.google.com/github/Kamana-b1012/python-2.0/blob/main/Welcome_To_Colaboratory.ipynb\" target=\"_parent\"><img src=\"https://colab.research.google.com/assets/colab-badge.svg\" alt=\"Open In Colab\"/></a>"
      ]
    },
    {
      "cell_type": "markdown",
      "source": [
        "project- 4\n",
        "CELSIUS TO FAHRENHEIT\n",
        "instruction\n",
        "wap which promots the user for a celsius to fahrenheit temp,convert temperature to fahrenheit and print out the converted temperature.\n",
        "Formula: (c* 9/5)+32=F\n",
        "input:\n",
        "Enter Temperature in celsious\n",
        "output:\n",
        "10 celsious =50 fahrenheit"
      ],
      "metadata": {
        "id": "1On84gwy4HB2"
      }
    },
    {
      "cell_type": "code",
      "source": [
        "c=input(\"Enter Temperature in celsious : \")\n",
        "c=int(c)\n",
        "#print(c)\n",
        "f=( c* 9/5)+32\n",
        "print(f\"{c} celsious = {f} fahrenheit \")\n",
        "\n"
      ],
      "metadata": {
        "colab": {
          "base_uri": "https://localhost:8080/"
        },
        "id": "4u8Aj_jw6whf",
        "outputId": "05c0f50d-5352-4b81-d91e-428367a682a6"
      },
      "execution_count": 6,
      "outputs": [
        {
          "output_type": "stream",
          "name": "stdout",
          "text": [
            "Enter Temperature in celsious : 10\n",
            "10 celsious = 50.0 fahrenheit \n"
          ]
        }
      ]
    }
  ],
  "metadata": {
    "colab": {
      "name": "Welcome To Colaboratory",
      "provenance": [],
      "include_colab_link": true
    },
    "kernelspec": {
      "display_name": "Python 3",
      "name": "python3"
    }
  },
  "nbformat": 4,
  "nbformat_minor": 0
}